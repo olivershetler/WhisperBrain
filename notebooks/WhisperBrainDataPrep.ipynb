{
 "cells": [
  {
   "cell_type": "markdown",
   "metadata": {},
   "source": [
    "Import Packages\n",
    "Install requirements.txt using `pip install -r requirements.txt`\n",
    "\n",
    "Install FFmpeg for pydub to work and add it to the PATH variable (google how to do this for your OS)\n",
    "\n",
    "Use `pip install -e .` to install the forked whisper / whisperbrain package. Make sure to restart the kernal if you get import errors."
   ]
  },
  {
   "cell_type": "code",
   "execution_count": 1,
   "metadata": {},
   "outputs": [],
   "source": [
    "from whisper.brain.data_tools import mat_to_hdf5\n",
    "from whisper.brain.dataset import WillettDataset"
   ]
  },
  {
   "cell_type": "markdown",
   "metadata": {},
   "source": [
    "Convert the data to HDF5, adding synthetic voice audio to the dataset using text-to-speech. This will take a while."
   ]
  },
  {
   "cell_type": "code",
   "execution_count": 2,
   "metadata": {},
   "outputs": [],
   "source": [
    "# mat_to_hdf5(\"K:\\ke\\sta\\data\\Willett&EtAl2023\\data\")"
   ]
  },
  {
   "cell_type": "markdown",
   "metadata": {},
   "source": [
    "Test that the dataset is correctly loading neural signals and audio."
   ]
  },
  {
   "cell_type": "code",
   "execution_count": 2,
   "metadata": {},
   "outputs": [
    {
     "name": "stdout",
     "output_type": "stream",
     "text": [
      "3460\n",
      "880\n",
      "1200\n"
     ]
    }
   ],
   "source": [
    "trainset = WillettDataset(\"K:\\ke\\sta\\data\\Willett&EtAl2023\\data\\Willett&EtAl2023.h5\", \"train\")\n",
    "print(len(trainset))\n",
    "testset = WillettDataset(\"K:\\ke\\sta\\data\\Willett&EtAl2023\\data\\Willett&EtAl2023.h5\", \"test\")\n",
    "print(len(testset))\n",
    "holdoutset = WillettDataset(\"K:\\ke\\sta\\data\\Willett&EtAl2023\\data\\Willett&EtAl2023.h5\", \"holdout\")\n",
    "print(len(holdoutset))"
   ]
  },
  {
   "cell_type": "code",
   "execution_count": 3,
   "metadata": {},
   "outputs": [
    {
     "name": "stdout",
     "output_type": "stream",
     "text": [
      "torch.Size([3000, 2, 2, 5, 8, 8])\n",
      "torch.Size([80, 3000])\n",
      "Reading in poor light gives you eyestrain.                                            \n",
      "416\n"
     ]
    }
   ],
   "source": [
    "neural_data, mel, text, signal_length = trainset[0]\n",
    "print(neural_data.shape)\n",
    "print(mel.shape)\n",
    "print(text)\n",
    "print(signal_length)"
   ]
  }
 ],
 "metadata": {
  "kernelspec": {
   "display_name": ".venv",
   "language": "python",
   "name": "python3"
  },
  "language_info": {
   "codemirror_mode": {
    "name": "ipython",
    "version": 3
   },
   "file_extension": ".py",
   "mimetype": "text/x-python",
   "name": "python",
   "nbconvert_exporter": "python",
   "pygments_lexer": "ipython3",
   "version": "3.11.4"
  }
 },
 "nbformat": 4,
 "nbformat_minor": 2
}
